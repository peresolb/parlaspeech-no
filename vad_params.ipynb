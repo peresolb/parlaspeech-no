{
 "cells": [
  {
   "cell_type": "code",
   "execution_count": 1,
   "metadata": {},
   "outputs": [],
   "source": [
    "import torch\n",
    "import pandas as pd\n",
    "from utils import vad\n",
    "from pathlib import Path\n",
    "from time import process_time"
   ]
  },
  {
   "cell_type": "code",
   "execution_count": 2,
   "metadata": {},
   "outputs": [],
   "source": [
    "audiofiles = Path(\"../data\").glob(\"*.wav\")"
   ]
  },
  {
   "cell_type": "code",
   "execution_count": 3,
   "metadata": {},
   "outputs": [
    {
     "name": "stderr",
     "output_type": "stream",
     "text": [
      "Using cache found in /home/pers/.cache/torch/hub/snakers4_silero-vad_master\n"
     ]
    }
   ],
   "source": [
    "vad_model, vad_utils = torch.hub.load(repo_or_dir='snakers4/silero-vad', model='silero_vad')\n",
    "vad_model = vad_model\n",
    "\n",
    "(get_speech_timestamps,\n",
    " save_audio,\n",
    " read_audio,\n",
    " VADIterator,\n",
    " collect_chunks) = vad_utils"
   ]
  },
  {
   "cell_type": "code",
   "execution_count": 4,
   "metadata": {},
   "outputs": [],
   "source": [
    "def test_vad(files, min_silence):\n",
    "    dictlist = []\n",
    "    for f in files:\n",
    "        try:\n",
    "            print(f\"Processing {f.name}\")\n",
    "            mydict = {}\n",
    "            t1_start = process_time()\n",
    "            wav = read_audio(f, sampling_rate=16000)\n",
    "            vad_ts = get_speech_timestamps(wav, vad_model, sampling_rate=16000, speech_pad_ms=1000, min_silence_duration_ms = min_silence, return_seconds=True)\n",
    "            orig_len = len(vad_ts)\n",
    "            vad_ts = vad.resample(vad_ts)\n",
    "            t1_stop = process_time()\n",
    "            reduced_len = len(vad_ts)\n",
    "            df = pd.DataFrame(vad_ts)\n",
    "            df.loc[:, \"duration\"] = df.end - df.start\n",
    "            mydict[\"file\"] = f.name\n",
    "            mydict[\"Minimal silence\"] = min_silence\n",
    "            mydict[\"Original samle length\"] = orig_len\n",
    "            mydict[\"Reduced sample length\"] = reduced_len\n",
    "            mydict[\"smallest segment\"] = df.duration.min()\n",
    "            mydict[\"largest segment\"] = df.duration.max()\n",
    "            mydict[\"processing_time\"] = t1_stop-t1_start\n",
    "            dictlist.append(mydict)\n",
    "        except TypeError:\n",
    "            pass\n",
    "    return pd.DataFrame(dictlist)"
   ]
  },
  {
   "cell_type": "code",
   "execution_count": 6,
   "metadata": {},
   "outputs": [
    {
     "name": "stdout",
     "output_type": "stream",
     "text": [
      "Processing Stortinget-20160602-155510.wav\n",
      "Processing Stortinget-20160606-095525.wav\n",
      "Error: max_len (30) is smaller than one of the segments ({'start': 19543.9, 'end': 19586.6})!\n",
      "Added {'start': 19543.9, 'end': 19565.25}\n",
      "Added {'start': 19565.25, 'end': 19586.6}\n",
      "Processing Stortinget-20160603-085513.wav\n",
      "Error: max_len (30) is smaller than one of the segments ({'start': 1310.2, 'end': 1340.8})!\n",
      "Added {'start': 1310.2, 'end': 1325.5}\n",
      "Added {'start': 1325.5, 'end': 1340.8}\n",
      "Processing Stortinget-20160602-095510.wav\n",
      "Error: max_len (30) is smaller than one of the segments ({'start': 1728.8, 'end': 1764.8})!\n",
      "Added {'start': 1728.8, 'end': 1746.8}\n",
      "Added {'start': 1746.8, 'end': 1764.8}\n",
      "Error: max_len (30) is smaller than one of the segments ({'start': 1894.8, 'end': 1929.1})!\n",
      "Added {'start': 1894.8, 'end': 1911.9499999999998}\n",
      "Added {'start': 1911.9499999999998, 'end': 1929.1}\n",
      "Error: max_len (30) is smaller than one of the segments ({'start': 11195.6, 'end': 11225.7})!\n",
      "Added {'start': 11195.6, 'end': 11210.650000000001}\n",
      "Added {'start': 11210.650000000001, 'end': 11225.7}\n",
      "Error: max_len (30) is smaller than one of the segments ({'start': 13109.3, 'end': 13178.6})!\n",
      "Added {'start': 13109.3, 'end': 13132.4}\n",
      "Added {'start': 13132.4, 'end': 13155.5}\n",
      "Added {'start': 13155.5, 'end': 13178.6}\n",
      "Error: max_len (30) is smaller than one of the segments ({'start': 15599.8, 'end': 15630.4})!\n",
      "Added {'start': 15599.8, 'end': 15615.099999999999}\n",
      "Added {'start': 15615.099999999999, 'end': 15630.4}\n",
      "Error: max_len (30) is smaller than one of the segments ({'start': 19882.4, 'end': 19930.7})!\n",
      "Added {'start': 19882.4, 'end': 19906.550000000003}\n",
      "Added {'start': 19906.550000000003, 'end': 19930.7}\n",
      "Processing Stortinget-20160601-095509.wav\n",
      "Error: max_len (30) is smaller than one of the segments ({'start': 592.3, 'end': 622.9})!\n",
      "Added {'start': 592.3, 'end': 607.5999999999999}\n",
      "Added {'start': 607.5999999999999, 'end': 622.9}\n",
      "Error: max_len (30) is smaller than one of the segments ({'start': 953.1, 'end': 988.3})!\n",
      "Added {'start': 953.1, 'end': 970.7}\n",
      "Added {'start': 970.7, 'end': 988.3}\n",
      "Error: max_len (30) is smaller than one of the segments ({'start': 1274.6, 'end': 1327.0})!\n",
      "Added {'start': 1274.6, 'end': 1300.8}\n",
      "Added {'start': 1300.8, 'end': 1327.0}\n",
      "Error: max_len (30) is smaller than one of the segments ({'start': 1352.8, 'end': 1387.1})!\n",
      "Added {'start': 1352.8, 'end': 1369.9499999999998}\n",
      "Added {'start': 1369.9499999999998, 'end': 1387.1}\n",
      "Error: max_len (30) is smaller than one of the segments ({'start': 4211.3, 'end': 4249.6})!\n",
      "Added {'start': 4211.3, 'end': 4230.450000000001}\n",
      "Added {'start': 4230.450000000001, 'end': 4249.6}\n",
      "Error: max_len (30) is smaller than one of the segments ({'start': 8317.0, 'end': 8355.9})!\n",
      "Added {'start': 8317.0, 'end': 8336.45}\n",
      "Added {'start': 8336.45, 'end': 8355.9}\n",
      "Error: max_len (30) is smaller than one of the segments ({'start': 9818.6, 'end': 9851.0})!\n",
      "Added {'start': 9818.6, 'end': 9834.8}\n",
      "Added {'start': 9834.8, 'end': 9851.0}\n",
      "Error: max_len (30) is smaller than one of the segments ({'start': 10829.3, 'end': 10871.8})!\n",
      "Added {'start': 10829.3, 'end': 10850.55}\n",
      "Added {'start': 10850.55, 'end': 10871.8}\n",
      "Error: max_len (30) is smaller than one of the segments ({'start': 10951.8, 'end': 11001.5})!\n",
      "Added {'start': 10951.8, 'end': 10976.65}\n",
      "Added {'start': 10976.65, 'end': 11001.5}\n",
      "Error: max_len (30) is smaller than one of the segments ({'start': 13180.9, 'end': 13214.6})!\n",
      "Added {'start': 13180.9, 'end': 13197.75}\n",
      "Added {'start': 13197.75, 'end': 13214.6}\n",
      "Error: max_len (30) is smaller than one of the segments ({'start': 13214.6, 'end': 13252.7})!\n",
      "Added {'start': 13214.6, 'end': 13233.650000000001}\n",
      "Added {'start': 13233.650000000001, 'end': 13252.7}\n",
      "                             file  Minimal silence  Original samle length  \\\n",
      "0  Stortinget-20160602-155510.wav               10                   1733   \n",
      "1  Stortinget-20160606-095525.wav               10                   5192   \n",
      "2  Stortinget-20160603-085513.wav               10                   1636   \n",
      "3  Stortinget-20160602-095510.wav               10                   4418   \n",
      "4  Stortinget-20160601-095509.wav               10                   2722   \n",
      "\n",
      "   Reduced sample length  smallest segment  largest segment  processing_time  \n",
      "0                    287               2.3             30.0       576.000058  \n",
      "1                    830               2.4             30.0      1627.569065  \n",
      "2                    300               2.3             30.0       627.523661  \n",
      "3                    837               2.1             30.0      1749.609074  \n",
      "4                    545               2.3             30.0      1083.496763  \n"
     ]
    }
   ],
   "source": [
    "ten_ms = test_vad(audiofiles, 10)\n",
    "print(ten_ms)"
   ]
  },
  {
   "cell_type": "code",
   "execution_count": 9,
   "metadata": {},
   "outputs": [
    {
     "data": {
      "text/plain": [
       "0.36075400427883564"
      ]
     },
     "execution_count": 9,
     "metadata": {},
     "output_type": "execute_result"
    }
   ],
   "source": [
    "print(ten_ms[\"processing_time\"].sum() / ten_ms[\"Original samle length\"].sum())"
   ]
  },
  {
   "cell_type": "code",
   "execution_count": 5,
   "metadata": {},
   "outputs": [
    {
     "name": "stdout",
     "output_type": "stream",
     "text": [
      "Processing Stortinget-20160602-155510.wav\n",
      "Processing Stortinget-20160606-095525.wav\n",
      "Error: max_len (30) is smaller than one of the segments ({'start': 19543.9, 'end': 19586.6})!\n",
      "Added {'start': 19543.9, 'end': 19565.25}\n",
      "Added {'start': 19565.25, 'end': 19586.6}\n",
      "Processing Stortinget-20160603-085513.wav\n",
      "Error: max_len (30) is smaller than one of the segments ({'start': 1310.2, 'end': 1340.8})!\n",
      "Added {'start': 1310.2, 'end': 1325.5}\n",
      "Added {'start': 1325.5, 'end': 1340.8}\n",
      "Processing Stortinget-20160602-095510.wav\n",
      "Error: max_len (30) is smaller than one of the segments ({'start': 1728.8, 'end': 1764.8})!\n",
      "Added {'start': 1728.8, 'end': 1746.8}\n",
      "Added {'start': 1746.8, 'end': 1764.8}\n",
      "Error: max_len (30) is smaller than one of the segments ({'start': 1894.8, 'end': 1929.1})!\n",
      "Added {'start': 1894.8, 'end': 1911.9499999999998}\n",
      "Added {'start': 1911.9499999999998, 'end': 1929.1}\n",
      "Error: max_len (30) is smaller than one of the segments ({'start': 11195.6, 'end': 11225.7})!\n",
      "Added {'start': 11195.6, 'end': 11210.650000000001}\n",
      "Added {'start': 11210.650000000001, 'end': 11225.7}\n",
      "Error: max_len (30) is smaller than one of the segments ({'start': 13109.3, 'end': 13178.6})!\n",
      "Added {'start': 13109.3, 'end': 13132.4}\n",
      "Added {'start': 13132.4, 'end': 13155.5}\n",
      "Added {'start': 13155.5, 'end': 13178.6}\n",
      "Error: max_len (30) is smaller than one of the segments ({'start': 15599.8, 'end': 15630.4})!\n",
      "Added {'start': 15599.8, 'end': 15615.099999999999}\n",
      "Added {'start': 15615.099999999999, 'end': 15630.4}\n",
      "Error: max_len (30) is smaller than one of the segments ({'start': 19882.4, 'end': 19930.7})!\n",
      "Added {'start': 19882.4, 'end': 19906.550000000003}\n",
      "Added {'start': 19906.550000000003, 'end': 19930.7}\n",
      "Processing Stortinget-20160601-095509.wav\n",
      "Error: max_len (30) is smaller than one of the segments ({'start': 592.3, 'end': 622.9})!\n",
      "Added {'start': 592.3, 'end': 607.5999999999999}\n",
      "Added {'start': 607.5999999999999, 'end': 622.9}\n",
      "Error: max_len (30) is smaller than one of the segments ({'start': 953.1, 'end': 988.3})!\n",
      "Added {'start': 953.1, 'end': 970.7}\n",
      "Added {'start': 970.7, 'end': 988.3}\n",
      "Error: max_len (30) is smaller than one of the segments ({'start': 1274.6, 'end': 1327.0})!\n",
      "Added {'start': 1274.6, 'end': 1300.8}\n",
      "Added {'start': 1300.8, 'end': 1327.0}\n",
      "Error: max_len (30) is smaller than one of the segments ({'start': 1352.8, 'end': 1387.1})!\n",
      "Added {'start': 1352.8, 'end': 1369.9499999999998}\n",
      "Added {'start': 1369.9499999999998, 'end': 1387.1}\n",
      "Error: max_len (30) is smaller than one of the segments ({'start': 4211.3, 'end': 4249.6})!\n",
      "Added {'start': 4211.3, 'end': 4230.450000000001}\n",
      "Added {'start': 4230.450000000001, 'end': 4249.6}\n",
      "Error: max_len (30) is smaller than one of the segments ({'start': 8317.0, 'end': 8355.9})!\n",
      "Added {'start': 8317.0, 'end': 8336.45}\n",
      "Added {'start': 8336.45, 'end': 8355.9}\n",
      "Error: max_len (30) is smaller than one of the segments ({'start': 9818.6, 'end': 9851.0})!\n",
      "Added {'start': 9818.6, 'end': 9834.8}\n",
      "Added {'start': 9834.8, 'end': 9851.0}\n",
      "Error: max_len (30) is smaller than one of the segments ({'start': 10829.3, 'end': 10871.8})!\n",
      "Added {'start': 10829.3, 'end': 10850.55}\n",
      "Added {'start': 10850.55, 'end': 10871.8}\n",
      "Error: max_len (30) is smaller than one of the segments ({'start': 10951.8, 'end': 11001.5})!\n",
      "Added {'start': 10951.8, 'end': 10976.65}\n",
      "Added {'start': 10976.65, 'end': 11001.5}\n",
      "Error: max_len (30) is smaller than one of the segments ({'start': 13180.9, 'end': 13214.6})!\n",
      "Added {'start': 13180.9, 'end': 13197.75}\n",
      "Added {'start': 13197.75, 'end': 13214.6}\n",
      "Error: max_len (30) is smaller than one of the segments ({'start': 13214.6, 'end': 13252.7})!\n",
      "Added {'start': 13214.6, 'end': 13233.650000000001}\n",
      "Added {'start': 13233.650000000001, 'end': 13252.7}\n",
      "                             file  Minimal silence  Original samle length  \\\n",
      "0  Stortinget-20160602-155510.wav               20                   1733   \n",
      "1  Stortinget-20160606-095525.wav               20                   5192   \n",
      "2  Stortinget-20160603-085513.wav               20                   1636   \n",
      "3  Stortinget-20160602-095510.wav               20                   4418   \n",
      "4  Stortinget-20160601-095509.wav               20                   2722   \n",
      "\n",
      "   Reduced sample length  smallest segment  largest segment  processing_time  \n",
      "0                    287               2.3             30.0       571.475550  \n",
      "1                    830               2.4             30.0      1603.683539  \n",
      "2                    300               2.3             30.0       619.126516  \n",
      "3                    837               2.1             30.0      1602.680653  \n",
      "4                    545               2.3             30.0      1022.982190  \n",
      "0.34519765923227824\n"
     ]
    }
   ],
   "source": [
    "twenty_ms = test_vad(audiofiles, 20)\n",
    "print(twenty_ms)\n",
    "print(twenty_ms[\"processing_time\"].sum() / twenty_ms[\"Original samle length\"].sum())"
   ]
  },
  {
   "cell_type": "code",
   "execution_count": null,
   "metadata": {},
   "outputs": [],
   "source": [
    "thirty_ms = test_vad(audiofiles, 30)\n",
    "print(thirty_ms)\n",
    "print(thirty_ms[\"processing_time\"].sum() / thirty_ms[\"Original samle length\"].sum())"
   ]
  },
  {
   "cell_type": "code",
   "execution_count": null,
   "metadata": {},
   "outputs": [],
   "source": [
    "fourty_ms = test_vad(audiofiles, 40)\n",
    "print(fourty_ms)\n",
    "print(fourty_ms[\"processing_time\"].sum() / fourty_ms[\"Original samle length\"].sum())"
   ]
  },
  {
   "cell_type": "code",
   "execution_count": null,
   "metadata": {},
   "outputs": [],
   "source": [
    "fifty_ms = test_vad(audiofiles, 50)\n",
    "print(fifty_ms)\n",
    "print(fifty_ms[\"processing_time\"].sum() / fifty_ms[\"Original samle length\"].sum())"
   ]
  },
  {
   "cell_type": "code",
   "execution_count": null,
   "metadata": {},
   "outputs": [],
   "source": [
    "sixty_ms = test_vad(audiofiles, 60)\n",
    "print(sixty_ms)\n",
    "print(sixty_ms[\"processing_time\"].sum() / sixty_ms[\"Original samle length\"].sum())"
   ]
  },
  {
   "cell_type": "code",
   "execution_count": null,
   "metadata": {},
   "outputs": [],
   "source": [
    "seventy_ms = test_vad(audiofiles, 70)\n",
    "print(seventy_ms)\n",
    "print(seventy_ms[\"processing_time\"].sum() / seventy_ms[\"Original samle length\"].sum())"
   ]
  },
  {
   "cell_type": "code",
   "execution_count": null,
   "metadata": {},
   "outputs": [],
   "source": [
    "eighty_ms = test_vad(audiofiles, 80)\n",
    "print(eighty_ms)\n",
    "print(eighty_ms[\"processing_time\"].sum() / eighty_ms[\"Original samle length\"].sum())"
   ]
  },
  {
   "cell_type": "code",
   "execution_count": null,
   "metadata": {},
   "outputs": [],
   "source": [
    "ninety_ms = test_vad(audiofiles, 90)\n",
    "print(ninety_ms)\n",
    "print(ninety_ms[\"processing_time\"].sum() / ninety_ms[\"Original samle length\"].sum())"
   ]
  },
  {
   "cell_type": "code",
   "execution_count": null,
   "metadata": {},
   "outputs": [],
   "source": [
    "hundred_ms = test_vad(audiofiles, 100)\n",
    "print(hundred_ms)\n",
    "print(hundred_ms[\"processing_time\"].sum() / hundred_ms[\"Original samle length\"].sum())"
   ]
  },
  {
   "cell_type": "code",
   "execution_count": null,
   "metadata": {},
   "outputs": [],
   "source": []
  }
 ],
 "metadata": {
  "kernelspec": {
   "display_name": "Python 3.8.10 64-bit ('scribe')",
   "language": "python",
   "name": "python3"
  },
  "language_info": {
   "codemirror_mode": {
    "name": "ipython",
    "version": 3
   },
   "file_extension": ".py",
   "mimetype": "text/x-python",
   "name": "python",
   "nbconvert_exporter": "python",
   "pygments_lexer": "ipython3",
   "version": "3.8.10"
  },
  "orig_nbformat": 4,
  "vscode": {
   "interpreter": {
    "hash": "d66c501128f0142389695bbff858a59eb740d2433f36fa1e590789fe92ac13c0"
   }
  }
 },
 "nbformat": 4,
 "nbformat_minor": 2
}
